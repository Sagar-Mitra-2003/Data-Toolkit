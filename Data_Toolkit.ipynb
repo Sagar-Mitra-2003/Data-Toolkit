{
  "nbformat": 4,
  "nbformat_minor": 0,
  "metadata": {
    "colab": {
      "provenance": []
    },
    "kernelspec": {
      "name": "python3",
      "display_name": "Python 3"
    },
    "language_info": {
      "name": "python"
    }
  },
  "cells": [
    {
      "cell_type": "markdown",
      "source": [
        "# Questions"
      ],
      "metadata": {
        "id": "73mxt7FhReqR"
      }
    },
    {
      "cell_type": "markdown",
      "source": [
        "Q-1 : What is NumPy, and why is it widely used in Python?\n",
        "\n",
        ">NumPy(Numerical Python) is a fundamental library for Python numerical computing. It provides efficient multi-dimensional array objects and various mathematical functions for handling large datasets making it a critical tool for professionals in fields that require heavy computation.\n",
        "\n",
        "NumPy is widely used in Python for numerical and scientific computing due to several key advantages:\n",
        "\n",
        "Performance and Efficiency:\n",
        "\n",
        "NumPy's core data structure, the ndarray, is implemented in C, enabling operations on large arrays to be significantly faster than using standard Python lists. This is due to contiguous memory allocation and optimized low-level operations.\n",
        "\n",
        "Memory Efficiency:\n",
        "\n",
        "NumPy arrays store homogeneous data types in contiguous memory blocks, reducing memory overhead and improving memory utilization, especially for large datasets compared to Python lists.\n",
        "\n",
        "Vectorized Operations:\n",
        "\n",
        "NumPy allows for vectorized operations, meaning mathematical operations can be applied to entire arrays or sub-arrays without explicit loops, leading to more concise, readable, and faster code.\n",
        "\n",
        "Rich Functionality:\n",
        "\n",
        "NumPy provides a comprehensive library of mathematical functions for linear algebra, Fourier transforms, random number generation, and more, which are essential for scientific and data-intensive tasks.\n",
        "\n",
        "Foundation for Other Libraries:\n",
        "\n",
        "Many popular data science and machine learning libraries in Python, such as Pandas, SciPy, Scikit-learn, TensorFlow, and PyTorch, are built upon or heavily integrate with NumPy, making it a fundamental component of the Python data science ecosystem."
      ],
      "metadata": {
        "id": "wdMgkjj4Rkc5"
      }
    },
    {
      "cell_type": "markdown",
      "source": [
        "Q-2 :  How does broadcasting work in NumPy?\n",
        "\n",
        ">Broadcasting in NumPy allows us to perform arithmetic operations on arrays of different shapes without reshaping them. It automatically adjusts the smaller array to match the larger array's shape by replicating its values along the necessary dimensions.\n",
        "If arrays have a different number of dimensions, the shape of the smaller-dimensional array is padded with ones on the left side until both shapes have the same length.\n",
        "The size of each dimension must either be the same or one of them must be one.\n",
        "Broadcasting is applied from the last dimension to the first dimension."
      ],
      "metadata": {
        "id": "lsNB-qAHR01p"
      }
    },
    {
      "cell_type": "markdown",
      "source": [
        "Q-3 : What is a Pandas DataFrame?\n",
        "\n",
        ">A Pandas DataFrame is a two-dimensional, size-mutable, and potentially heterogeneous tabular data structure in the Pandas library for Python. It is a fundamental data structure for data manipulation and analysis, resembling a spreadsheet or a SQL table with rows and columns.\n",
        "\n",
        "Here are the key characteristics of a Pandas DataFrame:\n",
        "\n",
        "Two-Dimensional:\n",
        "\n",
        "Data is organized in a table format with rows and columns.\n",
        "\n",
        "Labeled Axes:\n",
        "\n",
        "Both rows (index) and columns have labels, allowing for easy access and manipulation of data by name.\n",
        "\n",
        "Size-Mutable:\n",
        "\n",
        "DataFrames can be modified after creation, meaning rows and columns can be added or removed.\n",
        "\n",
        "Potentially Heterogeneous:\n",
        "\n",
        "Different columns can hold data of different types (e.g., integers, strings, floats, booleans).\n",
        "\n",
        "Powerful Operations:\n",
        "\n",
        "DataFrames provide a wide range of built-in functions and methods for data cleaning, transformation, aggregation, filtering, and analysis."
      ],
      "metadata": {
        "id": "fOQvTmJrTSuC"
      }
    },
    {
      "cell_type": "markdown",
      "source": [
        "Q-4 : Explain the use of the groupby() method in Pandas?\n",
        "\n",
        "The groupby() method in Pandas is a fundamental tool for data analysis, enabling the \"split-apply-combine\" strategy. This involves:\n",
        "\n",
        "Splitting : Dividing a DataFrame into groups based on one or more column values.\n",
        "\n",
        "Applying : Performing a function (like aggregation, transformation, or filtration) independently on each of these groups.\n",
        "\n",
        "Combining : Merging the results from each group back into a single Series or DataFrame."
      ],
      "metadata": {
        "id": "KWUaqipsxn6w"
      }
    },
    {
      "cell_type": "markdown",
      "source": [
        "Q-5 : Why is Seaborn preferred for statistical visualizations ?\n",
        "\n",
        "> Seaborn is a widely used Python library used for creating statistical data visualizations. It is built on the top of Matplotlib and designed to work with Pandas, it helps in the process of making complex plots with fewer lines of code. It specializes in visualizing data distributions, relationships and categorical data using beautiful styles and color palettes. Common visualizations include line plots, violin plots, heatmaps, etc. These graphical representations help us to better interpret and communicate data insights."
      ],
      "metadata": {
        "id": "7CaCm6xAy4BQ"
      }
    },
    {
      "cell_type": "markdown",
      "source": [
        "Q-6 : What are the differences between NumPy arrays and Python lists?\n",
        "\n",
        "NumPy arrays and Python lists are both used to store collections of data, but they differ significantly in their characteristics and intended use cases.\n",
        "\n",
        "Key Differences :\n",
        "\n",
        "Data Type Homogeneity :\n",
        "\n",
        "NumPy Arrays : Store elements of the same data type (homogeneous). This allows for efficient memory allocation and optimized mathematical operations.\n",
        "\n",
        "Python Lists : Can store elements of different data types (heterogeneous). This offers greater flexibility but comes with performance trade-offs.\n",
        "\n",
        "Performance and Memory Efficiency :\n",
        "\n",
        "NumPy Arrays: Highly optimized for numerical computations, especially on large datasets. They store data in contiguous memory blocks, leading to better memory efficiency and faster vectorized operations.\n",
        "\n",
        "Python Lists: Less efficient for numerical computations on large datasets due to their dynamic nature and scattered memory storage, which requires more overhead for each element.\n",
        "\n",
        "Functionality :\n",
        "\n",
        "NumPy Arrays : Provide a rich set of mathematical functions and operations optimized for array manipulation, including broadcasting, linear algebra, and Fourier transforms.\n",
        "\n",
        "Python Lists : Offer general-purpose list manipulation methods like append(), insert(), remove(), and sort(), but lack direct support for advanced mathematical operations.\n",
        "\n",
        "Mutability and Flexibility :\n",
        "\n",
        "NumPy Arrays : While mutable in terms of element values, their size is fixed upon creation. Resizing an array typically involves creating a new array.\n",
        "\n",
        "Python Lists : Highly flexible and dynamic. Elements can be easily added, removed, or modified, and the list can grow or shrink in size as needed."
      ],
      "metadata": {
        "id": "id0y44syza34"
      }
    },
    {
      "cell_type": "markdown",
      "source": [
        "Q-7 : What is a heatmap, and when should it be used?\n",
        "\n",
        "A heatmap is a data visualization technique that uses color-coded representations to display the magnitude of a variable across two dimensions. Essentially, it's a grid where each cell's color indicates the value of a variable in that specific location, with warmer colors often representing higher values and cooler colors representing lower values. Heatmaps are used to identify patterns, trends, and outliers in data, making them valuable in various fields.\n",
        "\n",
        ">When to use a heatmap :\n",
        "\n",
        "Website User Behavior :\n",
        "\n",
        "Heatmaps are extremely useful for understanding how users interact with websites or web applications. They can show where users click, how far they scroll, and where their attention is focused.\n",
        "\n",
        "Data Analysis :\n",
        "\n",
        "Heatmaps are excellent for visualizing complex datasets, revealing patterns and correlations that might be difficult to discern from raw data.\n",
        "\n",
        "Performance Analysis :\n",
        "\n",
        "They can be used to monitor performance in various contexts, such as manufacturing bays in a production line or different store locations for a retail business.\n",
        "\n",
        "Geographic Data :\n",
        "\n",
        "Heatmaps can visualize geographic data, like population density, traffic congestion, or environmental conditions.\n",
        "\n",
        "Security :\n",
        "\n",
        "They can be used in cybersecurity to highlight unusual access patterns or potential intrusions.\n",
        "\n",
        "Sports Analytics :\n",
        "\n",
        "Heatmaps can be used to analyze player and team performance, identify patterns in gameplay, and understand opponent strategies."
      ],
      "metadata": {
        "id": "lV1gq8kPzp54"
      }
    },
    {
      "cell_type": "markdown",
      "source": [
        "Q-8 : What does the term “vectorized operation” mean in NumPy?\n",
        "\n",
        "Vectorization in NumPy is a method of performing operations on entire arrays without explicit loops. This approach leverages NumPy's underlying C implementation for faster and more efficient computations. By replacing iterative processes with vectorized functions, you can significantly optimize performance in data analysis, machine learning, and scientific computing tasks."
      ],
      "metadata": {
        "id": "iwsbE_wzz2AB"
      }
    },
    {
      "cell_type": "markdown",
      "source": [
        "Q-9 : How does Matplotlib differ from Plotly?\n",
        "\n",
        "Matplotlib : Offers speedy, straightforward ways to generate static plots directly in a Jupyter notebook. If you’ve used pandas, you might already be familiar with the .plot() functions that build on Matplotlib.\n",
        "Plotly: Provides interactive plots that let you hover over points to see exact data values, zoom in/out, and toggle data series on and off. This level of interactivity can accelerate your analysis as you explore and refine your hypotheses.\n",
        "\n",
        "Plotly : Offers a built-in approach for interactive, web-ready graphics. Coupled with frameworks like Dash or platforms like Fabi.ai, you can build data-driven applications that stakeholders can explore on their own.\n",
        "Matplotlib: Typically used for static or embedded charts, such as those you’d place in a PDF report or presentation. It can also integrate with web frameworks, but it often requires additional libraries or complex setups to achieve interactivity."
      ],
      "metadata": {
        "id": "JYDMKtct0Byo"
      }
    },
    {
      "cell_type": "markdown",
      "source": [
        "Q-10 : What is the significance of hierarchical indexing in Pandas?\n",
        "\n",
        "Hierarchical indexing, also known as MultiIndex, is a significant feature in Pandas for several reasons :\n",
        "\n",
        "Representing Higher-Dimensional Data :\n",
        "It allows the representation and manipulation of data with more than two dimensions (beyond the typical rows and columns of a DataFrame) within the familiar one-dimensional Series and two-dimensional DataFrame structures. This is achieved by having multiple levels of indexing for rows or columns, effectively creating a \"tree-like\" structure for your data.\n",
        "\n",
        "Organized Data Structure :\n",
        "MultiIndexes provide a clear and intuitive way to structure and organize complex datasets with multiple levels of categories or groupings. This makes the data more readable and easier to understand, especially when dealing with hierarchical relationships.\n",
        "\n",
        "Efficient Data Selection and Slicing :\n",
        "Hierarchical indexing enables powerful and efficient selection and slicing of data across multiple levels of the index. You can easily access specific subsets of data by specifying values at different index levels, making complex queries more straightforward.\n",
        "\n",
        "Enhanced Grouping and Aggregation :\n",
        "It greatly enhances the capabilities of grouping and aggregation operations. You can group data by multiple variables simultaneously and perform aggregations at various levels of the hierarchy, leading to more insightful analysis.\n",
        "\n",
        "Simplified Data Analysis :\n",
        "By providing a structured and organized way to handle multi-dimensional data, hierarchical indexing simplifies complex data analysis tasks. It allows for a more streamlined workflow when dealing with datasets that have inherent hierarchical relationships."
      ],
      "metadata": {
        "id": "Ry_SqdeU0VJo"
      }
    },
    {
      "cell_type": "markdown",
      "source": [
        "Q-11 : What is the role of Seaborn’s pairplot() function?\n",
        "\n",
        "Seaborn's pairplot() function is a powerful tool for visualizing pairwise relationships and distributions within a dataset. Its primary role is to create a grid of plots, where each plot in the grid represents a specific relationship or distribution :\n",
        "\n",
        "Scatter Plots:\n",
        "For off-diagonal plots, pairplot() generates scatter plots showing the relationship between two different variables. This helps in identifying correlations, trends, and patterns between features.\n",
        "\n",
        "Univariate Distributions :\n",
        "For diagonal plots, pairplot() displays the univariate distribution of each variable. By default, this is a histogram, but it can be customized to a Kernel Density Estimate (KDE) or other distribution plots. This provides insights into the distribution and spread of individual variables.\n",
        "\n",
        "Categorical Variable Visualization :\n",
        "The hue parameter allows for coloring the points based on a categorical variable. This enables the visualization of how different categories within the data are distributed and relate to other variables, aiding in understanding group-wise patterns.\n"
      ],
      "metadata": {
        "id": "8-vl_APE0pWv"
      }
    },
    {
      "cell_type": "markdown",
      "source": [
        "Q-12 : What is the purpose of the describe() function in Pandas?\n",
        "\n",
        "The describe() function in Pandas is used to generate descriptive statistics of a DataFrame or Series. Its primary purpose is to provide a quick summary of the central tendency, dispersion, and shape of the distribution of a dataset's numerical columns.\n",
        "\n",
        "For numerical columns, describe() returns:\n",
        "\n",
        "* count: The number of non-null values.\n",
        "* mean: The average value.\n",
        "* std: The standard deviation, indicating the spread of the data.\n",
        "* min: The minimum value.\n",
        "* 25%: The 25th percentile (first quartile).\n",
        "* 50%: The 50th percentile (median).\n",
        "* 75%: The 75th percentile (third quartile).\n",
        "* max: The maximum value.\n",
        "\n",
        "For object (string) or categorical columns, describe() provides :\n",
        "\n",
        "* count: The number of non-null values.\n",
        "* unique: The number of distinct values.\n",
        "* top: The most frequent value.\n",
        "* freq: The frequency of the most frequent value."
      ],
      "metadata": {
        "id": "vWvBg24x06f3"
      }
    },
    {
      "cell_type": "markdown",
      "source": [
        "Q-13 : Why is handling missing data important in Pandas?\n",
        "\n",
        "Handling missing data in Pandas is crucial for several reasons, primarily because unaddressed missing values can significantly impact the reliability and accuracy of data analysis and subsequent modeling :\n",
        "\n",
        "Ensuring Accurate Analysis and Insights :\n",
        "\n",
        "Missing data, often represented as NaN (Not a Number) in Pandas, can skew statistical calculations, lead to incorrect aggregations, and provide misleading insights. For instance, calculating an average with missing values can misrepresent the true central tendency of the data.\n",
        "\n",
        "Preventing Errors in Machine Learning Models :\n",
        "\n",
        "Most machine learning algorithms are not designed to handle missing values and will either raise errors or produce inaccurate results if fed incomplete data. Preprocessing and handling missing data is a fundamental step to ensure models can be trained and deployed effectively.\n",
        "\n",
        "Maintaining Data Integrity and Consistency :\n",
        "\n",
        "Missing values can arise from various sources like data entry errors, system failures, or data integration issues. Addressing these gaps helps in maintaining the overall quality and consistency of the dataset, making it more robust for future use.\n",
        "\n",
        "Avoiding Biased Results :\n",
        "\n",
        "Depending on the nature and pattern of missingness (e.g., Missing Completely at Random, Missing At Random, Missing Not At Random), ignoring missing data can introduce bias into the analysis, leading to conclusions that are not representative of the underlying population.\n",
        "\n",
        "Facilitating Downstream Operations :\n",
        "\n",
        "Many data manipulation and transformation tasks in Pandas, such as merging, joining, or reshaping data, can be affected by the presence of missing values. Handling them proactively ensures smoother and more predictable execution of these operations."
      ],
      "metadata": {
        "id": "iE-tfY8y0_QY"
      }
    },
    {
      "cell_type": "markdown",
      "source": [
        "Q-14 : What are the benefits of using Plotly for data visualization?\n",
        "\n"
      ],
      "metadata": {
        "id": "CsEjxLPr1DEo"
      }
    },
    {
      "cell_type": "markdown",
      "source": [
        " Q-15 : How does NumPy handle multidimensional arrays?\n",
        "\n",
        " > NumPy handles multidimensional arrays primarily through its core object, the ndarray (N-dimensional array). This object provides a homogeneous, fixed-size container for elements of the same data type, organized in a multidimensional grid."
      ],
      "metadata": {
        "id": "lN73y4TA1Ghg"
      }
    },
    {
      "cell_type": "markdown",
      "source": [
        "Q-16 : What is the role of Bokeh in data visualization?\n",
        "\n",
        "> Bokeh is a Python library primarily used for creating interactive visualizations for web browsers, making it a valuable tool for data analysis and web application development. It excels at producing interactive plots, dashboards, and data applications, particularly with large or streaming datasets, and offers high-performance interactivity."
      ],
      "metadata": {
        "id": "5rK308E-1KFI"
      }
    },
    {
      "cell_type": "markdown",
      "source": [
        "Q-17 : Explain the difference between apply() and map() in Pandas?\n",
        "\n",
        "In Pandas, both apply() and map() are used to apply functions or transformations to data, but they differ in their scope and intended use :\n",
        "\n",
        "Applicability : map() is for Series only; apply() works on both Series and DataFrames.\n",
        "\n",
        "Functionality : map() is optimized for value substitution/mapping; apply() is more general-purpose and handles complex operations across axes.\n",
        "\n",
        "Input to Callable : When using a callable, map() passes individual elements, while apply() on a DataFrame passes entire Series (rows or columns)."
      ],
      "metadata": {
        "id": "lo9QEcRI1NeI"
      }
    },
    {
      "cell_type": "markdown",
      "source": [
        "Q-18 : What are some advanced features of NumPy?"
      ],
      "metadata": {
        "id": "7N0_fitY1SEy"
      }
    },
    {
      "cell_type": "markdown",
      "source": [
        "Q-19 : How does Pandas simplify time series analysis?\n",
        "\n",
        "> Pandas significantly simplifies time series analysis by providing specialized data structures and functionalities built specifically for handling and manipulating time-indexed data."
      ],
      "metadata": {
        "id": "rlk0fK9G2a93"
      }
    },
    {
      "cell_type": "markdown",
      "source": [
        "Q-20 : What is the role of a pivot table in Pandas?\n",
        "\n",
        "> A pivot table in Pandas serves as a powerful tool for summarizing and analyzing data within a DataFrame. Its primary role is to reshape data, allowing for the aggregation and calculation of various statistics based on specified categories or columns."
      ],
      "metadata": {
        "id": "_CfkYuvB2hso"
      }
    },
    {
      "cell_type": "markdown",
      "source": [
        "Q-21 : Why is NumPy’s array slicing faster than Python’s list slicing?\n",
        "\n",
        "NumPy array slicing is significantly faster than Python's built-in list slicing primarily due to differences in their underlying memory management and data storage :\n",
        "\n",
        "Contiguous Memory Allocation :\n",
        "\n",
        "NumPy arrays store elements of the same data type in contiguous blocks of memory. This \"locality of reference\" allows for highly efficient data access and manipulation, as the processor can load data into cache more effectively and perform operations on entire blocks of memory. Python lists, conversely, store pointers to objects that can be scattered throughout memory, requiring more overhead to access individual elements during slicing.\n",
        "\n",
        "Homogeneous Data Types :\n",
        "NumPy arrays enforce a single data type for all elements within an array. This homogeneity eliminates the need for type checking during operations, further boosting performance. Python lists, being heterogeneous, can store objects of different types, which necessitates runtime type checking and adds overhead.\n",
        "\n",
        "C-level Implementation :\n",
        "\n",
        "NumPy's core operations, including slicing, are implemented in highly optimized C code. This allows for direct memory access and leverages low-level optimizations that are not available in pure Python. While Python's list slicing also has C-level implementations, the fundamental differences in memory layout and data type homogeneity give NumPy a significant advantage for numerical computations.\n",
        "\n",
        "Vectorization and Broadcasting :\n",
        "\n",
        "NumPy's design inherently supports vectorized operations and broadcasting, meaning operations can be applied to entire arrays or sub-arrays without explicit Python loops. This eliminates the overhead of Python's interpreter and allows for highly efficient, parallelized computations, which benefit slicing operations as well."
      ],
      "metadata": {
        "id": "oHCFyhd12lg3"
      }
    },
    {
      "cell_type": "markdown",
      "source": [
        "Q-22 : What are some common use cases for Seaborn?\n",
        "\n",
        "Seaborn is a Python library built on Matplotlib, primarily used for creating informative and attractive statistical graphics. Its common use cases include :\n",
        "\n",
        "Exploratory Data Analysis (EDA) :\n",
        "\n",
        "Visualizing data distributions (histograms, KDE plots), relationships between variables (scatter plots, line plots), and patterns in categorical data (box plots, violin plots) to understand the dataset's structure and identify insights.\n",
        "\n",
        "Statistical Analysis :\n",
        "\n",
        "Visualizing statistical relationships like regression lines (regplots), correlations (heatmaps), and comparisons of distributions across groups.\n",
        "\n",
        "Machine Learning :\n",
        "\n",
        "Visualizing model performance (e.g., confusion matrices, ROC curves), feature importance, and data preprocessing steps.\n",
        "\n",
        "Creating Publication-Quality Graphics :\n",
        "\n",
        "Leveraging its aesthetically pleasing default styles and color palettes to generate clear and visually appealing plots suitable for reports and presentations.\n",
        "\n",
        "Working with Pandas DataFrames :\n",
        "\n",
        "Its functions are designed to work seamlessly with Pandas data structures, simplifying the visualization process for tabular data."
      ],
      "metadata": {
        "id": "PXtLUk1w2v34"
      }
    },
    {
      "cell_type": "markdown",
      "source": [
        "# Practical Programming :"
      ],
      "metadata": {
        "id": "sK5S3H4s7mUn"
      }
    },
    {
      "cell_type": "code",
      "source": [
        "# Q-1 : A How do you create a 2D NumPy array and calculate the sum of each row?\n",
        "\n",
        "import numpy as np\n",
        "\n",
        "arr = np.array([[1, 2, 3],\n",
        "                [4, 5, 6],\n",
        "                [7, 8, 9]])\n",
        "\n",
        "row_sums = np.sum(arr, axis=1)\n",
        "\n",
        "print(\"2D Array:\\n\", arr)\n",
        "print(\"Sum of each row:\", row_sums)"
      ],
      "metadata": {
        "colab": {
          "base_uri": "https://localhost:8080/"
        },
        "id": "qBq4Fuvd8G_n",
        "outputId": "d147ccf1-a0e1-4ba6-d2d7-e019b20cd673"
      },
      "execution_count": 15,
      "outputs": [
        {
          "output_type": "stream",
          "name": "stdout",
          "text": [
            "2D Array:\n",
            " [[1 2 3]\n",
            " [4 5 6]\n",
            " [7 8 9]]\n",
            "Sum of each row: [ 6 15 24]\n"
          ]
        }
      ]
    },
    {
      "cell_type": "code",
      "source": [
        "# Q-2 : Write a Pandas script to find the mean of a specific column in a DataFrame.\n",
        "\n",
        "import pandas as pd\n",
        "\n",
        "data = {\n",
        "    'Name': ['Sagar', 'Shuvra', 'Minati', 'Ratan'],\n",
        "    'Age': [22, 20, 50, 58],\n",
        "    'Salary': [30000, 20000, 40000, 50000]\n",
        "}\n",
        "\n",
        "df = pd.DataFrame(data)\n",
        "\n",
        "mean_salary = df['Salary'].mean()\n",
        "\n",
        "print(\"Mean Salary:\", mean_salary)\n"
      ],
      "metadata": {
        "colab": {
          "base_uri": "https://localhost:8080/"
        },
        "id": "51TTUSRK8lu-",
        "outputId": "0827cb62-97f2-4569-8424-2641d2f71c37"
      },
      "execution_count": 16,
      "outputs": [
        {
          "output_type": "stream",
          "name": "stdout",
          "text": [
            "Mean Salary: 35000.0\n"
          ]
        }
      ]
    },
    {
      "cell_type": "code",
      "source": [
        "# Q-3 : Create a scatter plot using Matplotlib.\n",
        "\n",
        "import matplotlib.pyplot as plt\n",
        "\n",
        "x = [10, 20, 30, 40, 50]\n",
        "y = [15, 25, 35, 45, 55]\n",
        "\n",
        "plt.scatter(x, y, color='blue', marker='o')\n",
        "\n",
        "plt.xlabel(\"X-axis\")\n",
        "plt.ylabel(\"Y-axis\")\n",
        "plt.title(\"Simple Scatter Plot\")\n",
        "\n",
        "plt.show()\n"
      ],
      "metadata": {
        "colab": {
          "base_uri": "https://localhost:8080/",
          "height": 472
        },
        "id": "kyoDRNy38w53",
        "outputId": "c71d175d-f178-4e77-eabc-97e66141cf51"
      },
      "execution_count": 17,
      "outputs": [
        {
          "output_type": "display_data",
          "data": {
            "text/plain": [
              "<Figure size 640x480 with 1 Axes>"
            ],
            "image/png": "[encoded data removed]"
          },
          "metadata": {}
        }
      ]
    },
    {
      "cell_type": "code",
      "source": [
        "# Q-4 : How do you calculate the correlation matrix using Seaborn and visualize it with a heatmap?\n",
        "\n",
        "import pandas as pd\n",
        "import seaborn as sns\n",
        "import matplotlib.pyplot as plt\n",
        "\n",
        "data = {\n",
        "    'Math': [80, 90, 70, 60, 50],\n",
        "    'Physics': [85, 88, 78, 65, 55],\n",
        "    'Chemistry': [78, 85, 75, 60, 52]\n",
        "}\n",
        "df = pd.DataFrame(data)\n",
        "\n",
        "corr_matrix = df.corr()\n",
        "\n",
        "sns.heatmap(corr_matrix, annot=True, cmap='coolwarm', linewidths=0.5)\n",
        "\n",
        "plt.title(\"Correlation Matrix Heatmap\")\n",
        "plt.show()\n"
      ],
      "metadata": {
        "colab": {
          "base_uri": "https://localhost:8080/",
          "height": 452
        },
        "id": "-aUy6PSR81av",
        "outputId": "d6b8150a-465a-4021-efa3-fd9459bc78ad"
      },
      "execution_count": 18,
      "outputs": [
        {
          "output_type": "display_data",
          "data": {
            "text/plain": [
              "<Figure size 640x480 with 2 Axes>"
            ],
            "image/png": "[encoded data removed]"
          },
          "metadata": {}
        }
      ]
    },
    {
      "cell_type": "code",
      "source": [
        "# Q-5 : Generate a bar plot using Plotly.\n",
        "\n",
        "import plotly.express as px\n",
        "\n",
        "data = {\n",
        "    'Fruits': ['Apples', 'Bananas', 'Cherries', 'Dates'],\n",
        "    'Quantity': [10, 15, 7, 12]\n",
        "}\n",
        "\n",
        "fig = px.bar(data, x='Fruits', y='Quantity', title='Fruit Quantity Bar Chart', color='Fruits')\n",
        "\n",
        "fig.show()\n"
      ],
      "metadata": {
        "colab": {
          "base_uri": "https://localhost:8080/",
          "height": 542
        },
        "id": "yVR-Pzi88-e_",
        "outputId": "7d9a02d0-4520-47a2-f83e-03664a609e2e"
      },
      "execution_count": 20,
      "outputs": [
        {
          "output_type": "display_data",
          "data": {
            "text/html": [
              "<html>\n",
              "<head><meta charset=\"utf-8\" /></head>\n",
              "<body>\n",
              "    <div>            <script src=\"https://cdnjs.cloudflare.com/ajax/libs/mathjax/2.7.5/MathJax.js?config=TeX-AMS-MML_SVG\"></script><script type=\"text/javascript\">if (window.MathJax && window.MathJax.Hub && window.MathJax.Hub.Config) {window.MathJax.Hub.Config({SVG: {font: \"STIX-Web\"}});}</script>                <script type=\"text/javascript\">window.PlotlyConfig = {MathJaxConfig: 'local'};</script>\n",
              "        <script charset=\"utf-8\" src=\"https://cdn.plot.ly/plotly-2.35.2.min.js\"></script>                <div id=\"78c9face-bbc0-4c9e-a9a4-260a864bba6f\" class=\"plotly-graph-div\" style=\"height:525px; width:100%;\"></div>            <script type=\"text/javascript\">                                    window.PLOTLYENV=window.PLOTLYENV || {};                                    if (document.getElementById(\"78c9face-bbc0-4c9e-a9a4-260a864bba6f\")) {                    Plotly.newPlot(                        \"78c9face-bbc0-4c9e-a9a4-260a864bba6f\",                        [{\"alignmentgroup\":\"True\",\"hovertemplate\":\"Fruits=%{x}\\u003cbr\\u003eQuantity=%{y}\\u003cextra\\u003e\\u003c\\u002fextra\\u003e\",\"legendgroup\":\"Apples\",\"marker\":{\"color\":\"#636efa\",\"pattern\":{\"shape\":\"\"}},\"name\":\"Apples\",\"offsetgroup\":\"Apples\",\"orientation\":\"v\",\"showlegend\":true,\"textposition\":\"auto\",\"x\":[\"Apples\"],\"xaxis\":\"x\",\"y\":[10],\"yaxis\":\"y\",\"type\":\"bar\"},{\"alignmentgroup\":\"True\",\"hovertemplate\":\"Fruits=%{x}\\u003cbr\\u003eQuantity=%{y}\\u003cextra\\u003e\\u003c\\u002fextra\\u003e\",\"legendgroup\":\"Bananas\",\"marker\":{\"color\":\"#EF553B\",\"pattern\":{\"shape\":\"\"}},\"name\":\"Bananas\",\"offsetgroup\":\"Bananas\",\"orientation\":\"v\",\"showlegend\":true,\"textposition\":\"auto\",\"x\":[\"Bananas\"],\"xaxis\":\"x\",\"y\":[15],\"yaxis\":\"y\",\"type\":\"bar\"},{\"alignmentgroup\":\"True\",\"hovertemplate\":\"Fruits=%{x}\\u003cbr\\u003eQuantity=%{y}\\u003cextra\\u003e\\u003c\\u002fextra\\u003e\",\"legendgroup\":\"Cherries\",\"marker\":{\"color\":\"#00cc96\",\"pattern\":{\"shape\":\"\"}},\"name\":\"Cherries\",\"offsetgroup\":\"Cherries\",\"orientation\":\"v\",\"showlegend\":true,\"textposition\":\"auto\",\"x\":[\"Cherries\"],\"xaxis\":\"x\",\"y\":[7],\"yaxis\":\"y\",\"type\":\"bar\"},{\"alignmentgroup\":\"True\",\"hovertemplate\":\"Fruits=%{x}\\u003cbr\\u003eQuantity=%{y}\\u003cextra\\u003e\\u003c\\u002fextra\\u003e\",\"legendgroup\":\"Dates\",\"marker\":{\"color\":\"#ab63fa\",\"pattern\":{\"shape\":\"\"}},\"name\":\"Dates\",\"offsetgroup\":\"Dates\",\"orientation\":\"v\",\"showlegend\":true,\"textposition\":\"auto\",\"x\":[\"Dates\"],\"xaxis\":\"x\",\"y\":[12],\"yaxis\":\"y\",\"type\":\"bar\"}],                        {\"template\":{\"data\":{\"histogram2dcontour\":[{\"type\":\"histogram2dcontour\",\"colorbar\":{\"outlinewidth\":0,\"ticks\":\"\"},\"colorscale\":[[0.0,\"#0d0887\"],[0.1111111111111111,\"#46039f\"],[0.2222222222222222,\"#7201a8\"],[0.3333333333333333,\"#9c179e\"],[0.4444444444444444,\"#bd3786\"],[0.5555555555555556,\"#d8576b\"],[0.6666666666666666,\"#ed7953\"],[0.7777777777777778,\"#fb9f3a\"],[0.8888888888888888,\"#fdca26\"],[1.0,\"#f0f921\"]]}],\"choropleth\":[{\"type\":\"choropleth\",\"colorbar\":{\"outlinewidth\":0,\"ticks\":\"\"}}],\"histogram2d\":[{\"type\":\"histogram2d\",\"colorbar\":{\"outlinewidth\":0,\"ticks\":\"\"},\"colorscale\":[[0.0,\"#0d0887\"],[0.1111111111111111,\"#46039f\"],[0.2222222222222222,\"#7201a8\"],[0.3333333333333333,\"#9c179e\"],[0.4444444444444444,\"#bd3786\"],[0.5555555555555556,\"#d8576b\"],[0.6666666666666666,\"#ed7953\"],[0.7777777777777778,\"#fb9f3a\"],[0.8888888888888888,\"#fdca26\"],[1.0,\"#f0f921\"]]}],\"heatmap\":[{\"type\":\"heatmap\",\"colorbar\":{\"outlinewidth\":0,\"ticks\":\"\"},\"colorscale\":[[0.0,\"#0d0887\"],[0.1111111111111111,\"#46039f\"],[0.2222222222222222,\"#7201a8\"],[0.3333333333333333,\"#9c179e\"],[0.4444444444444444,\"#bd3786\"],[0.5555555555555556,\"#d8576b\"],[0.6666666666666666,\"#ed7953\"],[0.7777777777777778,\"#fb9f3a\"],[0.8888888888888888,\"#fdca26\"],[1.0,\"#f0f921\"]]}],\"heatmapgl\":[{\"type\":\"heatmapgl\",\"colorbar\":{\"outlinewidth\":0,\"ticks\":\"\"},\"colorscale\":[[0.0,\"#0d0887\"],[0.1111111111111111,\"#46039f\"],[0.2222222222222222,\"#7201a8\"],[0.3333333333333333,\"#9c179e\"],[0.4444444444444444,\"#bd3786\"],[0.5555555555555556,\"#d8576b\"],[0.6666666666666666,\"#ed7953\"],[0.7777777777777778,\"#fb9f3a\"],[0.8888888888888888,\"#fdca26\"],[1.0,\"#f0f921\"]]}],\"contourcarpet\":[{\"type\":\"contourcarpet\",\"colorbar\":{\"outlinewidth\":0,\"ticks\":\"\"}}],\"contour\":[{\"type\":\"contour\",\"colorbar\":{\"outlinewidth\":0,\"ticks\":\"\"},\"colorscale\":[[0.0,\"#0d0887\"],[0.1111111111111111,\"#46039f\"],[0.2222222222222222,\"#7201a8\"],[0.3333333333333333,\"#9c179e\"],[0.4444444444444444,\"#bd3786\"],[0.5555555555555556,\"#d8576b\"],[0.6666666666666666,\"#ed7953\"],[0.7777777777777778,\"#fb9f3a\"],[0.8888888888888888,\"#fdca26\"],[1.0,\"#f0f921\"]]}],\"surface\":[{\"type\":\"surface\",\"colorbar\":{\"outlinewidth\":0,\"ticks\":\"\"},\"colorscale\":[[0.0,\"#0d0887\"],[0.1111111111111111,\"#46039f\"],[0.2222222222222222,\"#7201a8\"],[0.3333333333333333,\"#9c179e\"],[0.4444444444444444,\"#bd3786\"],[0.5555555555555556,\"#d8576b\"],[0.6666666666666666,\"#ed7953\"],[0.7777777777777778,\"#fb9f3a\"],[0.8888888888888888,\"#fdca26\"],[1.0,\"#f0f921\"]]}],\"mesh3d\":[{\"type\":\"mesh3d\",\"colorbar\":{\"outlinewidth\":0,\"ticks\":\"\"}}],\"scatter\":[{\"fillpattern\":{\"fillmode\":\"overlay\",\"size\":10,\"solidity\":0.2},\"type\":\"scatter\"}],\"parcoords\":[{\"type\":\"parcoords\",\"line\":{\"colorbar\":{\"outlinewidth\":0,\"ticks\":\"\"}}}],\"scatterpolargl\":[{\"type\":\"scatterpolargl\",\"marker\":{\"colorbar\":{\"outlinewidth\":0,\"ticks\":\"\"}}}],\"bar\":[{\"error_x\":{\"color\":\"#2a3f5f\"},\"error_y\":{\"color\":\"#2a3f5f\"},\"marker\":{\"line\":{\"color\":\"#E5ECF6\",\"width\":0.5},\"pattern\":{\"fillmode\":\"overlay\",\"size\":10,\"solidity\":0.2}},\"type\":\"bar\"}],\"scattergeo\":[{\"type\":\"scattergeo\",\"marker\":{\"colorbar\":{\"outlinewidth\":0,\"ticks\":\"\"}}}],\"scatterpolar\":[{\"type\":\"scatterpolar\",\"marker\":{\"colorbar\":{\"outlinewidth\":0,\"ticks\":\"\"}}}],\"histogram\":[{\"marker\":{\"pattern\":{\"fillmode\":\"overlay\",\"size\":10,\"solidity\":0.2}},\"type\":\"histogram\"}],\"scattergl\":[{\"type\":\"scattergl\",\"marker\":{\"colorbar\":{\"outlinewidth\":0,\"ticks\":\"\"}}}],\"scatter3d\":[{\"type\":\"scatter3d\",\"line\":{\"colorbar\":{\"outlinewidth\":0,\"ticks\":\"\"}},\"marker\":{\"colorbar\":{\"outlinewidth\":0,\"ticks\":\"\"}}}],\"scattermapbox\":[{\"type\":\"scattermapbox\",\"marker\":{\"colorbar\":{\"outlinewidth\":0,\"ticks\":\"\"}}}],\"scatterternary\":[{\"type\":\"scatterternary\",\"marker\":{\"colorbar\":{\"outlinewidth\":0,\"ticks\":\"\"}}}],\"scattercarpet\":[{\"type\":\"scattercarpet\",\"marker\":{\"colorbar\":{\"outlinewidth\":0,\"ticks\":\"\"}}}],\"carpet\":[{\"aaxis\":{\"endlinecolor\":\"#2a3f5f\",\"gridcolor\":\"white\",\"linecolor\":\"white\",\"minorgridcolor\":\"white\",\"startlinecolor\":\"#2a3f5f\"},\"baxis\":{\"endlinecolor\":\"#2a3f5f\",\"gridcolor\":\"white\",\"linecolor\":\"white\",\"minorgridcolor\":\"white\",\"startlinecolor\":\"#2a3f5f\"},\"type\":\"carpet\"}],\"table\":[{\"cells\":{\"fill\":{\"color\":\"#EBF0F8\"},\"line\":{\"color\":\"white\"}},\"header\":{\"fill\":{\"color\":\"#C8D4E3\"},\"line\":{\"color\":\"white\"}},\"type\":\"table\"}],\"barpolar\":[{\"marker\":{\"line\":{\"color\":\"#E5ECF6\",\"width\":0.5},\"pattern\":{\"fillmode\":\"overlay\",\"size\":10,\"solidity\":0.2}},\"type\":\"barpolar\"}],\"pie\":[{\"automargin\":true,\"type\":\"pie\"}]},\"layout\":{\"autotypenumbers\":\"strict\",\"colorway\":[\"#636efa\",\"#EF553B\",\"#00cc96\",\"#ab63fa\",\"#FFA15A\",\"#19d3f3\",\"#FF6692\",\"#B6E880\",\"#FF97FF\",\"#FECB52\"],\"font\":{\"color\":\"#2a3f5f\"},\"hovermode\":\"closest\",\"hoverlabel\":{\"align\":\"left\"},\"paper_bgcolor\":\"white\",\"plot_bgcolor\":\"#E5ECF6\",\"polar\":{\"bgcolor\":\"#E5ECF6\",\"angularaxis\":{\"gridcolor\":\"white\",\"linecolor\":\"white\",\"ticks\":\"\"},\"radialaxis\":{\"gridcolor\":\"white\",\"linecolor\":\"white\",\"ticks\":\"\"}},\"ternary\":{\"bgcolor\":\"#E5ECF6\",\"aaxis\":{\"gridcolor\":\"white\",\"linecolor\":\"white\",\"ticks\":\"\"},\"baxis\":{\"gridcolor\":\"white\",\"linecolor\":\"white\",\"ticks\":\"\"},\"caxis\":{\"gridcolor\":\"white\",\"linecolor\":\"white\",\"ticks\":\"\"}},\"coloraxis\":{\"colorbar\":{\"outlinewidth\":0,\"ticks\":\"\"}},\"colorscale\":{\"sequential\":[[0.0,\"#0d0887\"],[0.1111111111111111,\"#46039f\"],[0.2222222222222222,\"#7201a8\"],[0.3333333333333333,\"#9c179e\"],[0.4444444444444444,\"#bd3786\"],[0.5555555555555556,\"#d8576b\"],[0.6666666666666666,\"#ed7953\"],[0.7777777777777778,\"#fb9f3a\"],[0.8888888888888888,\"#fdca26\"],[1.0,\"#f0f921\"]],\"sequentialminus\":[[0.0,\"#0d0887\"],[0.1111111111111111,\"#46039f\"],[0.2222222222222222,\"#7201a8\"],[0.3333333333333333,\"#9c179e\"],[0.4444444444444444,\"#bd3786\"],[0.5555555555555556,\"#d8576b\"],[0.6666666666666666,\"#ed7953\"],[0.7777777777777778,\"#fb9f3a\"],[0.8888888888888888,\"#fdca26\"],[1.0,\"#f0f921\"]],\"diverging\":[[0,\"#8e0152\"],[0.1,\"#c51b7d\"],[0.2,\"#de77ae\"],[0.3,\"#f1b6da\"],[0.4,\"#fde0ef\"],[0.5,\"#f7f7f7\"],[0.6,\"#e6f5d0\"],[0.7,\"#b8e186\"],[0.8,\"#7fbc41\"],[0.9,\"#4d9221\"],[1,\"#276419\"]]},\"xaxis\":{\"gridcolor\":\"white\",\"linecolor\":\"white\",\"ticks\":\"\",\"title\":{\"standoff\":15},\"zerolinecolor\":\"white\",\"automargin\":true,\"zerolinewidth\":2},\"yaxis\":{\"gridcolor\":\"white\",\"linecolor\":\"white\",\"ticks\":\"\",\"title\":{\"standoff\":15},\"zerolinecolor\":\"white\",\"automargin\":true,\"zerolinewidth\":2},\"scene\":{\"xaxis\":{\"backgroundcolor\":\"#E5ECF6\",\"gridcolor\":\"white\",\"linecolor\":\"white\",\"showbackground\":true,\"ticks\":\"\",\"zerolinecolor\":\"white\",\"gridwidth\":2},\"yaxis\":{\"backgroundcolor\":\"#E5ECF6\",\"gridcolor\":\"white\",\"linecolor\":\"white\",\"showbackground\":true,\"ticks\":\"\",\"zerolinecolor\":\"white\",\"gridwidth\":2},\"zaxis\":{\"backgroundcolor\":\"#E5ECF6\",\"gridcolor\":\"white\",\"linecolor\":\"white\",\"showbackground\":true,\"ticks\":\"\",\"zerolinecolor\":\"white\",\"gridwidth\":2}},\"shapedefaults\":{\"line\":{\"color\":\"#2a3f5f\"}},\"annotationdefaults\":{\"arrowcolor\":\"#2a3f5f\",\"arrowhead\":0,\"arrowwidth\":1},\"geo\":{\"bgcolor\":\"white\",\"landcolor\":\"#E5ECF6\",\"subunitcolor\":\"white\",\"showland\":true,\"showlakes\":true,\"lakecolor\":\"white\"},\"title\":{\"x\":0.05},\"mapbox\":{\"style\":\"light\"}}},\"xaxis\":{\"anchor\":\"y\",\"domain\":[0.0,1.0],\"title\":{\"text\":\"Fruits\"},\"categoryorder\":\"array\",\"categoryarray\":[\"Apples\",\"Bananas\",\"Cherries\",\"Dates\"]},\"yaxis\":{\"anchor\":\"x\",\"domain\":[0.0,1.0],\"title\":{\"text\":\"Quantity\"}},\"legend\":{\"title\":{\"text\":\"Fruits\"},\"tracegroupgap\":0},\"title\":{\"text\":\"Fruit Quantity Bar Chart\"},\"barmode\":\"relative\"},                        {\"responsive\": true}                    ).then(function(){\n",
              "                            \n",
              "var gd = document.getElementById('78c9face-bbc0-4c9e-a9a4-260a864bba6f');\n",
              "var x = new MutationObserver(function (mutations, observer) {{\n",
              "        var display = window.getComputedStyle(gd).display;\n",
              "        if (!display || display === 'none') {{\n",
              "            console.log([gd, 'removed!']);\n",
              "            Plotly.purge(gd);\n",
              "            observer.disconnect();\n",
              "        }}\n",
              "}});\n",
              "\n",
              "// Listen for the removal of the full notebook cells\n",
              "var notebookContainer = gd.closest('#notebook-container');\n",
              "if (notebookContainer) {{\n",
              "    x.observe(notebookContainer, {childList: true});\n",
              "}}\n",
              "\n",
              "// Listen for the clearing of the current output cell\n",
              "var outputEl = gd.closest('.output');\n",
              "if (outputEl) {{\n",
              "    x.observe(outputEl, {childList: true});\n",
              "}}\n",
              "\n",
              "                        })                };                            </script>        </div>\n",
              "</body>\n",
              "</html>"
            ]
          },
          "metadata": {}
        }
      ]
    },
    {
      "cell_type": "code",
      "source": [
        "# Q-6 : Create a DataFrame and add a new column based on an existing column.\n",
        "\n",
        "import pandas as pd\n",
        "\n",
        "data = {\n",
        "    'Name': ['Sagar', 'Minati', 'Shuvra'],\n",
        "    'Salary': [60000, 40000, 20000]\n",
        "}\n",
        "\n",
        "df = pd.DataFrame(data)\n",
        "\n",
        "df['Bonus'] = df['Salary'] * 0.10\n",
        "\n",
        "print(df)\n"
      ],
      "metadata": {
        "colab": {
          "base_uri": "https://localhost:8080/"
        },
        "id": "Sa8vf45J9HKn",
        "outputId": "92f3d584-6ee4-47f3-d715-2c5c8a63261b"
      },
      "execution_count": 21,
      "outputs": [
        {
          "output_type": "stream",
          "name": "stdout",
          "text": [
            "     Name  Salary   Bonus\n",
            "0   Sagar   60000  6000.0\n",
            "1  Minati   40000  4000.0\n",
            "2  Shuvra   20000  2000.0\n"
          ]
        }
      ]
    },
    {
      "cell_type": "code",
      "source": [
        "# Q-7 :  Write a program to perform element-wise multiplication of two NumPy arrays.\n",
        "\n",
        "import numpy as np\n",
        "\n",
        "arr1 = np.array([1, 2, 3, 4])\n",
        "arr2 = np.array([10, 20, 30, 40])\n",
        "\n",
        "result = arr1 * arr2\n",
        "\n",
        "print(\"Array 1:\", arr1)\n",
        "print(\"Array 2:\", arr2)\n",
        "print(\"Element-wise Multiplication:\", result)\n"
      ],
      "metadata": {
        "colab": {
          "base_uri": "https://localhost:8080/"
        },
        "id": "lBAJK8X59WMf",
        "outputId": "5d3b5ea2-e8b7-4792-9827-4f9a30529998"
      },
      "execution_count": 22,
      "outputs": [
        {
          "output_type": "stream",
          "name": "stdout",
          "text": [
            "Array 1: [1 2 3 4]\n",
            "Array 2: [10 20 30 40]\n",
            "Element-wise Multiplication: [ 10  40  90 160]\n"
          ]
        }
      ]
    },
    {
      "cell_type": "code",
      "source": [
        "# Q-8 : Create a line plot with multiple lines using Matplotlib.\n",
        "\n",
        "import matplotlib.pyplot as plt\n",
        "\n",
        "x = [1, 2, 3, 4, 5]\n",
        "y1 = [10, 20, 25, 30, 35]\n",
        "y2 = [5, 15, 20, 25, 30]\n",
        "\n",
        "plt.plot(x, y1, label='Line 1', color='blue', marker='o')\n",
        "plt.plot(x, y2, label='Line 2', color='green', marker='s')\n",
        "\n",
        "plt.xlabel('X-axis')\n",
        "plt.ylabel('Y-axis')\n",
        "plt.title('Line Plot with Multiple Lines')\n",
        "\n",
        "plt.legend()\n",
        "\n",
        "plt.show()\n"
      ],
      "metadata": {
        "colab": {
          "base_uri": "https://localhost:8080/",
          "height": 472
        },
        "id": "6-y2kIjU9aCH",
        "outputId": "cc83ff78-caa3-40f7-8ade-f0bab42eb315"
      },
      "execution_count": 23,
      "outputs": [
        {
          "output_type": "display_data",
          "data": {
            "text/plain": [
              "<Figure size 640x480 with 1 Axes>"
            ],
            "image/png": "[encoded data removed]"
          },
          "metadata": {}
        }
      ]
    },
    {
      "cell_type": "code",
      "source": [
        "# Q-9 : Generate a Pandas DataFrame and filter rows where a column value is greater than a threshold.\n",
        "\n",
        "import pandas as pd\n",
        "\n",
        "# Step 1: Create a sample DataFrame\n",
        "data = {\n",
        "    'Name': ['Sagar', 'Shuvra', 'Minati', 'Ratan'],\n",
        "    'Age': [22, 20, 50, 58]\n",
        "}\n",
        "\n",
        "df = pd.DataFrame(data)\n",
        "\n",
        "filtered_df = df[df['Age'] > 30]\n",
        "\n",
        "print(filtered_df)\n"
      ],
      "metadata": {
        "colab": {
          "base_uri": "https://localhost:8080/"
        },
        "id": "JX5sjn1a9fJ3",
        "outputId": "69f864bb-e0f0-407a-ffbb-01cb66f88b83"
      },
      "execution_count": 24,
      "outputs": [
        {
          "output_type": "stream",
          "name": "stdout",
          "text": [
            "     Name  Age\n",
            "2  Minati   50\n",
            "3   Ratan   58\n"
          ]
        }
      ]
    },
    {
      "cell_type": "code",
      "source": [
        "# Q-10 : Create a histogram using Seaborn to visualize a distribution.\n",
        "\n",
        "import seaborn as sns\n",
        "import matplotlib.pyplot as plt\n",
        "\n",
        "data = [12, 15, 13, 18, 19, 21, 21, 22, 23, 24, 24, 25, 25, 27, 28, 30, 30]\n",
        "\n",
        "sns.histplot(data, bins=8, kde=True, color='skyblue')\n",
        "\n",
        "plt.xlabel('Value')\n",
        "plt.ylabel('Frequency')\n",
        "plt.title('Distribution Histogram')\n",
        "\n",
        "plt.show()\n"
      ],
      "metadata": {
        "colab": {
          "base_uri": "https://localhost:8080/",
          "height": 472
        },
        "id": "r9jzd_c99ilA",
        "outputId": "c2f2516c-e588-4cdd-b770-9991657d5274"
      },
      "execution_count": 25,
      "outputs": [
        {
          "output_type": "display_data",
          "data": {
            "text/plain": [
              "<Figure size 640x480 with 1 Axes>"
            ],
            "image/png": "[encoded data removed]"
          },
          "metadata": {}
        }
      ]
    },
    {
      "cell_type": "code",
      "source": [
        "# Q-11 : Perform matrix multiplication using NumPy.\n",
        "\n",
        "import numpy as np\n",
        "\n",
        "A = np.array([[1, 2],\n",
        "              [3, 4]])\n",
        "\n",
        "B = np.array([[5, 6],\n",
        "              [7, 8]])\n",
        "\n",
        "result1 = A @ B\n",
        "\n",
        "result2 = np.dot(A, B)\n",
        "\n",
        "print(\"Matrix A:\\n\", A)\n",
        "print(\"Matrix B:\\n\", B)\n",
        "print(\"Matrix Multiplication (A @ B):\\n\", result1)\n",
        "print(\"Matrix Multiplication (np.dot):\\n\", result2)\n"
      ],
      "metadata": {
        "colab": {
          "base_uri": "https://localhost:8080/"
        },
        "id": "7x3x7xo39rHG",
        "outputId": "361096c6-0311-4bea-e9a1-ca59899a1211"
      },
      "execution_count": 26,
      "outputs": [
        {
          "output_type": "stream",
          "name": "stdout",
          "text": [
            "Matrix A:\n",
            " [[1 2]\n",
            " [3 4]]\n",
            "Matrix B:\n",
            " [[5 6]\n",
            " [7 8]]\n",
            "Matrix Multiplication (A @ B):\n",
            " [[19 22]\n",
            " [43 50]]\n",
            "Matrix Multiplication (np.dot):\n",
            " [[19 22]\n",
            " [43 50]]\n"
          ]
        }
      ]
    },
    {
      "cell_type": "code",
      "source": [
        "# Q-12 : Use Pandas to load a CSV file and display its first 5 rows.\n",
        "\n",
        "import pandas as pd\n",
        "\n",
        "df = pd.read_csv('your_file.csv')\n",
        "\n",
        "print(df.head())\n"
      ],
      "metadata": {
        "id": "Rd-X9SBR9urn"
      },
      "execution_count": null,
      "outputs": []
    },
    {
      "cell_type": "code",
      "source": [
        "# Q-13 : Create a 3D scatter plot using Plotly.\n",
        "\n",
        "import plotly.express as px\n",
        "import pandas as pd\n",
        "\n",
        "df = pd.DataFrame({\n",
        "    'x': [1, 2, 3, 4, 5],\n",
        "    'y': [10, 11, 12, 13, 14],\n",
        "    'z': [100, 150, 200, 250, 300],\n",
        "    'Category': ['A', 'B', 'A', 'B', 'C']\n",
        "})\n",
        "\n",
        "fig = px.scatter_3d(\n",
        "    df,\n",
        "    x='x',\n",
        "    y='y',\n",
        "    z='z',\n",
        "    color='Category',\n",
        "    size='z',\n",
        "    title='3D Scatter Plot Example'\n",
        ")\n",
        "\n",
        "fig.show()\n"
      ],
      "metadata": {
        "colab": {
          "base_uri": "https://localhost:8080/",
          "height": 542
        },
        "id": "5Fazoyrx90B3",
        "outputId": "cc638e2c-57d4-4a96-f2b2-32c562f08af4"
      },
      "execution_count": 27,
      "outputs": [
        {
          "output_type": "display_data",
          "data": {
            "text/html": [
              "<html>\n",
              "<head><meta charset=\"utf-8\" /></head>\n",
              "<body>\n",
              "    <div>            <script src=\"https://cdnjs.cloudflare.com/ajax/libs/mathjax/2.7.5/MathJax.js?config=TeX-AMS-MML_SVG\"></script><script type=\"text/javascript\">if (window.MathJax && window.MathJax.Hub && window.MathJax.Hub.Config) {window.MathJax.Hub.Config({SVG: {font: \"STIX-Web\"}});}</script>                <script type=\"text/javascript\">window.PlotlyConfig = {MathJaxConfig: 'local'};</script>\n",
              "        <script charset=\"utf-8\" src=\"https://cdn.plot.ly/plotly-2.35.2.min.js\"></script>                <div id=\"8c727613-3fe6-4575-8f31-db9543a76423\" class=\"plotly-graph-div\" style=\"height:525px; width:100%;\"></div>            <script type=\"text/javascript\">                                    window.PLOTLYENV=window.PLOTLYENV || {};                                    if (document.getElementById(\"8c727613-3fe6-4575-8f31-db9543a76423\")) {                    Plotly.newPlot(                        \"8c727613-3fe6-4575-8f31-db9543a76423\",                        [{\"hovertemplate\":\"Category=A\\u003cbr\\u003ex=%{x}\\u003cbr\\u003ey=%{y}\\u003cbr\\u003ez=%{marker.size}\\u003cextra\\u003e\\u003c\\u002fextra\\u003e\",\"legendgroup\":\"A\",\"marker\":{\"color\":\"#636efa\",\"size\":[100,200],\"sizemode\":\"area\",\"sizeref\":0.75,\"symbol\":\"circle\"},\"mode\":\"markers\",\"name\":\"A\",\"scene\":\"scene\",\"showlegend\":true,\"x\":[1,3],\"y\":[10,12],\"z\":[100,200],\"type\":\"scatter3d\"},{\"hovertemplate\":\"Category=B\\u003cbr\\u003ex=%{x}\\u003cbr\\u003ey=%{y}\\u003cbr\\u003ez=%{marker.size}\\u003cextra\\u003e\\u003c\\u002fextra\\u003e\",\"legendgroup\":\"B\",\"marker\":{\"color\":\"#EF553B\",\"size\":[150,250],\"sizemode\":\"area\",\"sizeref\":0.75,\"symbol\":\"circle\"},\"mode\":\"markers\",\"name\":\"B\",\"scene\":\"scene\",\"showlegend\":true,\"x\":[2,4],\"y\":[11,13],\"z\":[150,250],\"type\":\"scatter3d\"},{\"hovertemplate\":\"Category=C\\u003cbr\\u003ex=%{x}\\u003cbr\\u003ey=%{y}\\u003cbr\\u003ez=%{marker.size}\\u003cextra\\u003e\\u003c\\u002fextra\\u003e\",\"legendgroup\":\"C\",\"marker\":{\"color\":\"#00cc96\",\"size\":[300],\"sizemode\":\"area\",\"sizeref\":0.75,\"symbol\":\"circle\"},\"mode\":\"markers\",\"name\":\"C\",\"scene\":\"scene\",\"showlegend\":true,\"x\":[5],\"y\":[14],\"z\":[300],\"type\":\"scatter3d\"}],                        {\"template\":{\"data\":{\"histogram2dcontour\":[{\"type\":\"histogram2dcontour\",\"colorbar\":{\"outlinewidth\":0,\"ticks\":\"\"},\"colorscale\":[[0.0,\"#0d0887\"],[0.1111111111111111,\"#46039f\"],[0.2222222222222222,\"#7201a8\"],[0.3333333333333333,\"#9c179e\"],[0.4444444444444444,\"#bd3786\"],[0.5555555555555556,\"#d8576b\"],[0.6666666666666666,\"#ed7953\"],[0.7777777777777778,\"#fb9f3a\"],[0.8888888888888888,\"#fdca26\"],[1.0,\"#f0f921\"]]}],\"choropleth\":[{\"type\":\"choropleth\",\"colorbar\":{\"outlinewidth\":0,\"ticks\":\"\"}}],\"histogram2d\":[{\"type\":\"histogram2d\",\"colorbar\":{\"outlinewidth\":0,\"ticks\":\"\"},\"colorscale\":[[0.0,\"#0d0887\"],[0.1111111111111111,\"#46039f\"],[0.2222222222222222,\"#7201a8\"],[0.3333333333333333,\"#9c179e\"],[0.4444444444444444,\"#bd3786\"],[0.5555555555555556,\"#d8576b\"],[0.6666666666666666,\"#ed7953\"],[0.7777777777777778,\"#fb9f3a\"],[0.8888888888888888,\"#fdca26\"],[1.0,\"#f0f921\"]]}],\"heatmap\":[{\"type\":\"heatmap\",\"colorbar\":{\"outlinewidth\":0,\"ticks\":\"\"},\"colorscale\":[[0.0,\"#0d0887\"],[0.1111111111111111,\"#46039f\"],[0.2222222222222222,\"#7201a8\"],[0.3333333333333333,\"#9c179e\"],[0.4444444444444444,\"#bd3786\"],[0.5555555555555556,\"#d8576b\"],[0.6666666666666666,\"#ed7953\"],[0.7777777777777778,\"#fb9f3a\"],[0.8888888888888888,\"#fdca26\"],[1.0,\"#f0f921\"]]}],\"heatmapgl\":[{\"type\":\"heatmapgl\",\"colorbar\":{\"outlinewidth\":0,\"ticks\":\"\"},\"colorscale\":[[0.0,\"#0d0887\"],[0.1111111111111111,\"#46039f\"],[0.2222222222222222,\"#7201a8\"],[0.3333333333333333,\"#9c179e\"],[0.4444444444444444,\"#bd3786\"],[0.5555555555555556,\"#d8576b\"],[0.6666666666666666,\"#ed7953\"],[0.7777777777777778,\"#fb9f3a\"],[0.8888888888888888,\"#fdca26\"],[1.0,\"#f0f921\"]]}],\"contourcarpet\":[{\"type\":\"contourcarpet\",\"colorbar\":{\"outlinewidth\":0,\"ticks\":\"\"}}],\"contour\":[{\"type\":\"contour\",\"colorbar\":{\"outlinewidth\":0,\"ticks\":\"\"},\"colorscale\":[[0.0,\"#0d0887\"],[0.1111111111111111,\"#46039f\"],[0.2222222222222222,\"#7201a8\"],[0.3333333333333333,\"#9c179e\"],[0.4444444444444444,\"#bd3786\"],[0.5555555555555556,\"#d8576b\"],[0.6666666666666666,\"#ed7953\"],[0.7777777777777778,\"#fb9f3a\"],[0.8888888888888888,\"#fdca26\"],[1.0,\"#f0f921\"]]}],\"surface\":[{\"type\":\"surface\",\"colorbar\":{\"outlinewidth\":0,\"ticks\":\"\"},\"colorscale\":[[0.0,\"#0d0887\"],[0.1111111111111111,\"#46039f\"],[0.2222222222222222,\"#7201a8\"],[0.3333333333333333,\"#9c179e\"],[0.4444444444444444,\"#bd3786\"],[0.5555555555555556,\"#d8576b\"],[0.6666666666666666,\"#ed7953\"],[0.7777777777777778,\"#fb9f3a\"],[0.8888888888888888,\"#fdca26\"],[1.0,\"#f0f921\"]]}],\"mesh3d\":[{\"type\":\"mesh3d\",\"colorbar\":{\"outlinewidth\":0,\"ticks\":\"\"}}],\"scatter\":[{\"fillpattern\":{\"fillmode\":\"overlay\",\"size\":10,\"solidity\":0.2},\"type\":\"scatter\"}],\"parcoords\":[{\"type\":\"parcoords\",\"line\":{\"colorbar\":{\"outlinewidth\":0,\"ticks\":\"\"}}}],\"scatterpolargl\":[{\"type\":\"scatterpolargl\",\"marker\":{\"colorbar\":{\"outlinewidth\":0,\"ticks\":\"\"}}}],\"bar\":[{\"error_x\":{\"color\":\"#2a3f5f\"},\"error_y\":{\"color\":\"#2a3f5f\"},\"marker\":{\"line\":{\"color\":\"#E5ECF6\",\"width\":0.5},\"pattern\":{\"fillmode\":\"overlay\",\"size\":10,\"solidity\":0.2}},\"type\":\"bar\"}],\"scattergeo\":[{\"type\":\"scattergeo\",\"marker\":{\"colorbar\":{\"outlinewidth\":0,\"ticks\":\"\"}}}],\"scatterpolar\":[{\"type\":\"scatterpolar\",\"marker\":{\"colorbar\":{\"outlinewidth\":0,\"ticks\":\"\"}}}],\"histogram\":[{\"marker\":{\"pattern\":{\"fillmode\":\"overlay\",\"size\":10,\"solidity\":0.2}},\"type\":\"histogram\"}],\"scattergl\":[{\"type\":\"scattergl\",\"marker\":{\"colorbar\":{\"outlinewidth\":0,\"ticks\":\"\"}}}],\"scatter3d\":[{\"type\":\"scatter3d\",\"line\":{\"colorbar\":{\"outlinewidth\":0,\"ticks\":\"\"}},\"marker\":{\"colorbar\":{\"outlinewidth\":0,\"ticks\":\"\"}}}],\"scattermapbox\":[{\"type\":\"scattermapbox\",\"marker\":{\"colorbar\":{\"outlinewidth\":0,\"ticks\":\"\"}}}],\"scatterternary\":[{\"type\":\"scatterternary\",\"marker\":{\"colorbar\":{\"outlinewidth\":0,\"ticks\":\"\"}}}],\"scattercarpet\":[{\"type\":\"scattercarpet\",\"marker\":{\"colorbar\":{\"outlinewidth\":0,\"ticks\":\"\"}}}],\"carpet\":[{\"aaxis\":{\"endlinecolor\":\"#2a3f5f\",\"gridcolor\":\"white\",\"linecolor\":\"white\",\"minorgridcolor\":\"white\",\"startlinecolor\":\"#2a3f5f\"},\"baxis\":{\"endlinecolor\":\"#2a3f5f\",\"gridcolor\":\"white\",\"linecolor\":\"white\",\"minorgridcolor\":\"white\",\"startlinecolor\":\"#2a3f5f\"},\"type\":\"carpet\"}],\"table\":[{\"cells\":{\"fill\":{\"color\":\"#EBF0F8\"},\"line\":{\"color\":\"white\"}},\"header\":{\"fill\":{\"color\":\"#C8D4E3\"},\"line\":{\"color\":\"white\"}},\"type\":\"table\"}],\"barpolar\":[{\"marker\":{\"line\":{\"color\":\"#E5ECF6\",\"width\":0.5},\"pattern\":{\"fillmode\":\"overlay\",\"size\":10,\"solidity\":0.2}},\"type\":\"barpolar\"}],\"pie\":[{\"automargin\":true,\"type\":\"pie\"}]},\"layout\":{\"autotypenumbers\":\"strict\",\"colorway\":[\"#636efa\",\"#EF553B\",\"#00cc96\",\"#ab63fa\",\"#FFA15A\",\"#19d3f3\",\"#FF6692\",\"#B6E880\",\"#FF97FF\",\"#FECB52\"],\"font\":{\"color\":\"#2a3f5f\"},\"hovermode\":\"closest\",\"hoverlabel\":{\"align\":\"left\"},\"paper_bgcolor\":\"white\",\"plot_bgcolor\":\"#E5ECF6\",\"polar\":{\"bgcolor\":\"#E5ECF6\",\"angularaxis\":{\"gridcolor\":\"white\",\"linecolor\":\"white\",\"ticks\":\"\"},\"radialaxis\":{\"gridcolor\":\"white\",\"linecolor\":\"white\",\"ticks\":\"\"}},\"ternary\":{\"bgcolor\":\"#E5ECF6\",\"aaxis\":{\"gridcolor\":\"white\",\"linecolor\":\"white\",\"ticks\":\"\"},\"baxis\":{\"gridcolor\":\"white\",\"linecolor\":\"white\",\"ticks\":\"\"},\"caxis\":{\"gridcolor\":\"white\",\"linecolor\":\"white\",\"ticks\":\"\"}},\"coloraxis\":{\"colorbar\":{\"outlinewidth\":0,\"ticks\":\"\"}},\"colorscale\":{\"sequential\":[[0.0,\"#0d0887\"],[0.1111111111111111,\"#46039f\"],[0.2222222222222222,\"#7201a8\"],[0.3333333333333333,\"#9c179e\"],[0.4444444444444444,\"#bd3786\"],[0.5555555555555556,\"#d8576b\"],[0.6666666666666666,\"#ed7953\"],[0.7777777777777778,\"#fb9f3a\"],[0.8888888888888888,\"#fdca26\"],[1.0,\"#f0f921\"]],\"sequentialminus\":[[0.0,\"#0d0887\"],[0.1111111111111111,\"#46039f\"],[0.2222222222222222,\"#7201a8\"],[0.3333333333333333,\"#9c179e\"],[0.4444444444444444,\"#bd3786\"],[0.5555555555555556,\"#d8576b\"],[0.6666666666666666,\"#ed7953\"],[0.7777777777777778,\"#fb9f3a\"],[0.8888888888888888,\"#fdca26\"],[1.0,\"#f0f921\"]],\"diverging\":[[0,\"#8e0152\"],[0.1,\"#c51b7d\"],[0.2,\"#de77ae\"],[0.3,\"#f1b6da\"],[0.4,\"#fde0ef\"],[0.5,\"#f7f7f7\"],[0.6,\"#e6f5d0\"],[0.7,\"#b8e186\"],[0.8,\"#7fbc41\"],[0.9,\"#4d9221\"],[1,\"#276419\"]]},\"xaxis\":{\"gridcolor\":\"white\",\"linecolor\":\"white\",\"ticks\":\"\",\"title\":{\"standoff\":15},\"zerolinecolor\":\"white\",\"automargin\":true,\"zerolinewidth\":2},\"yaxis\":{\"gridcolor\":\"white\",\"linecolor\":\"white\",\"ticks\":\"\",\"title\":{\"standoff\":15},\"zerolinecolor\":\"white\",\"automargin\":true,\"zerolinewidth\":2},\"scene\":{\"xaxis\":{\"backgroundcolor\":\"#E5ECF6\",\"gridcolor\":\"white\",\"linecolor\":\"white\",\"showbackground\":true,\"ticks\":\"\",\"zerolinecolor\":\"white\",\"gridwidth\":2},\"yaxis\":{\"backgroundcolor\":\"#E5ECF6\",\"gridcolor\":\"white\",\"linecolor\":\"white\",\"showbackground\":true,\"ticks\":\"\",\"zerolinecolor\":\"white\",\"gridwidth\":2},\"zaxis\":{\"backgroundcolor\":\"#E5ECF6\",\"gridcolor\":\"white\",\"linecolor\":\"white\",\"showbackground\":true,\"ticks\":\"\",\"zerolinecolor\":\"white\",\"gridwidth\":2}},\"shapedefaults\":{\"line\":{\"color\":\"#2a3f5f\"}},\"annotationdefaults\":{\"arrowcolor\":\"#2a3f5f\",\"arrowhead\":0,\"arrowwidth\":1},\"geo\":{\"bgcolor\":\"white\",\"landcolor\":\"#E5ECF6\",\"subunitcolor\":\"white\",\"showland\":true,\"showlakes\":true,\"lakecolor\":\"white\"},\"title\":{\"x\":0.05},\"mapbox\":{\"style\":\"light\"}}},\"scene\":{\"domain\":{\"x\":[0.0,1.0],\"y\":[0.0,1.0]},\"xaxis\":{\"title\":{\"text\":\"x\"}},\"yaxis\":{\"title\":{\"text\":\"y\"}},\"zaxis\":{\"title\":{\"text\":\"z\"}}},\"legend\":{\"title\":{\"text\":\"Category\"},\"tracegroupgap\":0,\"itemsizing\":\"constant\"},\"title\":{\"text\":\"3D Scatter Plot Example\"}},                        {\"responsive\": true}                    ).then(function(){\n",
              "                            \n",
              "var gd = document.getElementById('8c727613-3fe6-4575-8f31-db9543a76423');\n",
              "var x = new MutationObserver(function (mutations, observer) {{\n",
              "        var display = window.getComputedStyle(gd).display;\n",
              "        if (!display || display === 'none') {{\n",
              "            console.log([gd, 'removed!']);\n",
              "            Plotly.purge(gd);\n",
              "            observer.disconnect();\n",
              "        }}\n",
              "}});\n",
              "\n",
              "// Listen for the removal of the full notebook cells\n",
              "var notebookContainer = gd.closest('#notebook-container');\n",
              "if (notebookContainer) {{\n",
              "    x.observe(notebookContainer, {childList: true});\n",
              "}}\n",
              "\n",
              "// Listen for the clearing of the current output cell\n",
              "var outputEl = gd.closest('.output');\n",
              "if (outputEl) {{\n",
              "    x.observe(outputEl, {childList: true});\n",
              "}}\n",
              "\n",
              "                        })                };                            </script>        </div>\n",
              "</body>\n",
              "</html>"
            ]
          },
          "metadata": {}
        }
      ]
    }
  ]
}